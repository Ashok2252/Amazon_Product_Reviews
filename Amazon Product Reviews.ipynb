{
 "cells": [
  {
   "cell_type": "code",
   "execution_count": 1,
   "metadata": {},
   "outputs": [],
   "source": [
    "from bs4 import BeautifulSoup as bs\n",
    "import requests"
   ]
  },
  {
   "cell_type": "code",
   "execution_count": 3,
   "metadata": {},
   "outputs": [],
   "source": [
    "link = 'https://www.amazon.in/product-reviews/B07W5QZQ45/ref=cm_cr_dp_d_show_all_btm?ie=UTF8&reviewerType=all_reviews'"
   ]
  },
  {
   "cell_type": "code",
   "execution_count": 4,
   "metadata": {},
   "outputs": [],
   "source": [
    "page = requests.get(link)"
   ]
  },
  {
   "cell_type": "code",
   "execution_count": 5,
   "metadata": {},
   "outputs": [
    {
     "data": {
      "text/plain": [
       "<Response [200]>"
      ]
     },
     "execution_count": 5,
     "metadata": {},
     "output_type": "execute_result"
    }
   ],
   "source": [
    "page"
   ]
  },
  {
   "cell_type": "code",
   "execution_count": 7,
   "metadata": {},
   "outputs": [],
   "source": [
    "soup = bs(page.content,'html.parser')"
   ]
  },
  {
   "cell_type": "code",
   "execution_count": 8,
   "metadata": {},
   "outputs": [],
   "source": [
    "names = soup.find_all('span',class_='a-profile-name')"
   ]
  },
  {
   "cell_type": "code",
   "execution_count": 9,
   "metadata": {},
   "outputs": [
    {
     "data": {
      "text/plain": [
       "[<span class=\"a-profile-name\">Abhijit Chauhan</span>,\n",
       " <span class=\"a-profile-name\">mohit kumar</span>,\n",
       " <span class=\"a-profile-name\">mohit kumar</span>,\n",
       " <span class=\"a-profile-name\">Abhijit Chauhan</span>,\n",
       " <span class=\"a-profile-name\">Akshay Joshi<span class=\"a-profile-verified-badge\"><span class=\"a-profile-verified-text\"></span></span></span>,\n",
       " <span class=\"a-profile-name\">Amazon Customer</span>,\n",
       " <span class=\"a-profile-name\">Manish</span>,\n",
       " <span class=\"a-profile-name\">prashant p</span>,\n",
       " <span class=\"a-profile-name\">Manideep</span>,\n",
       " <span class=\"a-profile-name\">Parth Garg</span>,\n",
       " <span class=\"a-profile-name\">Sagar</span>,\n",
       " <span class=\"a-profile-name\">Varun Raj</span>]"
      ]
     },
     "execution_count": 9,
     "metadata": {},
     "output_type": "execute_result"
    }
   ],
   "source": [
    "names"
   ]
  },
  {
   "cell_type": "code",
   "execution_count": 10,
   "metadata": {},
   "outputs": [
    {
     "data": {
      "text/plain": [
       "<span class=\"a-profile-name\">Abhijit Chauhan</span>"
      ]
     },
     "execution_count": 10,
     "metadata": {},
     "output_type": "execute_result"
    }
   ],
   "source": [
    "names.pop(0)"
   ]
  },
  {
   "cell_type": "code",
   "execution_count": 11,
   "metadata": {},
   "outputs": [
    {
     "data": {
      "text/plain": [
       "<span class=\"a-profile-name\">mohit kumar</span>"
      ]
     },
     "execution_count": 11,
     "metadata": {},
     "output_type": "execute_result"
    }
   ],
   "source": [
    "names.pop(0)"
   ]
  },
  {
   "cell_type": "code",
   "execution_count": 14,
   "metadata": {},
   "outputs": [
    {
     "data": {
      "text/plain": [
       "['mohit kumar',\n",
       " 'Abhijit Chauhan',\n",
       " 'Akshay Joshi',\n",
       " 'Amazon Customer',\n",
       " 'Manish',\n",
       " 'prashant p',\n",
       " 'Manideep',\n",
       " 'Parth Garg',\n",
       " 'Sagar',\n",
       " 'Varun Raj']"
      ]
     },
     "execution_count": 14,
     "metadata": {},
     "output_type": "execute_result"
    }
   ],
   "source": [
    "cust_name = []\n",
    "for i in range(0,len(names)):\n",
    "    cust_name.append(names[i].get_text())\n",
    "cust_name"
   ]
  },
  {
   "cell_type": "code",
   "execution_count": 16,
   "metadata": {},
   "outputs": [],
   "source": [
    "title = soup.find_all('a',class_='review-title-content')"
   ]
  },
  {
   "cell_type": "code",
   "execution_count": 17,
   "metadata": {},
   "outputs": [
    {
     "data": {
      "text/plain": [
       "[<a class=\"a-size-base a-link-normal review-title a-color-base review-title-content a-text-bold\" data-hook=\"review-title\" href=\"/gp/customer-reviews/R91VOZNK3O0QI?ASIN=B07W5QZQ45\">\n",
       " <span>Worst installation &amp; demo process of 1 +tv</span>\n",
       " </a>,\n",
       " <a class=\"a-size-base a-link-normal review-title a-color-base review-title-content a-text-bold\" data-hook=\"review-title\" href=\"/gp/customer-reviews/RMP72L3Q2Q7WK?ASIN=B07W5QZQ45\">\n",
       " <span>Dead pixels on the TV</span>\n",
       " </a>,\n",
       " <a class=\"a-size-base a-link-normal review-title a-color-base review-title-content a-text-bold\" data-hook=\"review-title\" href=\"/gp/customer-reviews/R22RJLAT5ERTF5?ASIN=B07W5QZQ45\">\n",
       " <span>A ideal TV  for binge watching millennials</span>\n",
       " </a>,\n",
       " <a class=\"a-size-base a-link-normal review-title a-color-base review-title-content a-text-bold\" data-hook=\"review-title\" href=\"/gp/customer-reviews/R1H1IBJVPEMEPG?ASIN=B07W5QZQ45\">\n",
       " <span>The review is more to do with service rather the quality of the tv.</span>\n",
       " </a>,\n",
       " <a class=\"a-size-base a-link-normal review-title a-color-base review-title-content a-text-bold\" data-hook=\"review-title\" href=\"/gp/customer-reviews/R1ITZ6QMVJ2QQR?ASIN=B07W5QZQ45\">\n",
       " <span>Impressive</span>\n",
       " </a>,\n",
       " <a class=\"a-size-base a-link-normal review-title a-color-base review-title-content a-text-bold\" data-hook=\"review-title\" href=\"/gp/customer-reviews/R3GIJ90A1XDB3U?ASIN=B07W5QZQ45\">\n",
       " <span>Best quality picture, sound, internet and remote</span>\n",
       " </a>,\n",
       " <a class=\"a-size-base a-link-normal review-title a-color-base review-title-content a-text-bold\" data-hook=\"review-title\" href=\"/gp/customer-reviews/RNWBZ45WXGSE4?ASIN=B07W5QZQ45\">\n",
       " <span>Waiting for Netflix</span>\n",
       " </a>,\n",
       " <a class=\"a-size-base a-link-normal review-title a-color-base review-title-content a-text-bold\" data-hook=\"review-title\" href=\"/gp/customer-reviews/RCPFBOAAIXHSQ?ASIN=B07W5QZQ45\">\n",
       " <span>Amazing TV - Poor Amazon Service</span>\n",
       " </a>,\n",
       " <a class=\"a-size-base a-link-normal review-title a-color-base review-title-content a-text-bold\" data-hook=\"review-title\" href=\"/gp/customer-reviews/R2XTCV4J8GI76L?ASIN=B07W5QZQ45\">\n",
       " <span>Not at all like a OnePlus product, totally disappointed</span>\n",
       " </a>,\n",
       " <a class=\"a-size-base a-link-normal review-title a-color-base review-title-content a-text-bold\" data-hook=\"review-title\" href=\"/gp/customer-reviews/R2DT66RJUOQS1P?ASIN=B07W5QZQ45\">\n",
       " <span>Many defects and poor support from customer care</span>\n",
       " </a>]"
      ]
     },
     "execution_count": 17,
     "metadata": {},
     "output_type": "execute_result"
    }
   ],
   "source": [
    "title"
   ]
  },
  {
   "cell_type": "code",
   "execution_count": 18,
   "metadata": {},
   "outputs": [
    {
     "data": {
      "text/plain": [
       "['\\nWorst installation & demo process of 1 +tv\\n',\n",
       " '\\nDead pixels on the TV\\n',\n",
       " '\\nA ideal TV  for binge watching millennials\\n',\n",
       " '\\nThe review is more to do with service rather the quality of the tv.\\n',\n",
       " '\\nImpressive\\n',\n",
       " '\\nBest quality picture, sound, internet and remote\\n',\n",
       " '\\nWaiting for Netflix\\n',\n",
       " '\\nAmazing TV - Poor Amazon Service\\n',\n",
       " '\\nNot at all like a OnePlus product, totally disappointed\\n',\n",
       " '\\nMany defects and poor support from customer care\\n']"
      ]
     },
     "execution_count": 18,
     "metadata": {},
     "output_type": "execute_result"
    }
   ],
   "source": [
    "review_title = []\n",
    "for i in range(0,len(title)):\n",
    "    review_title.append(title[i].get_text())\n",
    "review_title"
   ]
  },
  {
   "cell_type": "code",
   "execution_count": 20,
   "metadata": {},
   "outputs": [
    {
     "data": {
      "text/plain": [
       "['Worst installation & demo process of 1 +tv\\n',\n",
       " 'Dead pixels on the TV\\n',\n",
       " 'A ideal TV  for binge watching millennials\\n',\n",
       " 'The review is more to do with service rather the quality of the tv.\\n',\n",
       " 'Impressive\\n',\n",
       " 'Best quality picture, sound, internet and remote\\n',\n",
       " 'Waiting for Netflix\\n',\n",
       " 'Amazing TV - Poor Amazon Service\\n',\n",
       " 'Not at all like a OnePlus product, totally disappointed\\n',\n",
       " 'Many defects and poor support from customer care\\n']"
      ]
     },
     "execution_count": 20,
     "metadata": {},
     "output_type": "execute_result"
    }
   ],
   "source": [
    "#removing \\n (slash n)\n",
    "review_title[:] = [titles.lstrip('\\n') for titles in review_title]\n",
    "review_title"
   ]
  },
  {
   "cell_type": "code",
   "execution_count": 21,
   "metadata": {},
   "outputs": [
    {
     "data": {
      "text/plain": [
       "['Worst installation & demo process of 1 +tv',\n",
       " 'Dead pixels on the TV',\n",
       " 'A ideal TV  for binge watching millennials',\n",
       " 'The review is more to do with service rather the quality of the tv.',\n",
       " 'Impressive',\n",
       " 'Best quality picture, sound, internet and remote',\n",
       " 'Waiting for Netflix',\n",
       " 'Amazing TV - Poor Amazon Service',\n",
       " 'Not at all like a OnePlus product, totally disappointed',\n",
       " 'Many defects and poor support from customer care']"
      ]
     },
     "execution_count": 21,
     "metadata": {},
     "output_type": "execute_result"
    }
   ],
   "source": [
    "review_title[:] = [titles.rstrip('\\n') for titles in review_title]\n",
    "review_title"
   ]
  },
  {
   "cell_type": "code",
   "execution_count": 26,
   "metadata": {},
   "outputs": [
    {
     "data": {
      "text/plain": [
       "[<i class=\"a-icon a-icon-star a-star-4 review-rating\" data-hook=\"review-star-rating-view-point\"><span class=\"a-icon-alt\">4.0 out of 5 stars</span></i>,\n",
       " <i class=\"a-icon a-icon-star a-star-1 review-rating\" data-hook=\"review-star-rating-view-point\"><span class=\"a-icon-alt\">1.0 out of 5 stars</span></i>,\n",
       " <i class=\"a-icon a-icon-star a-star-1 review-rating\" data-hook=\"review-star-rating\"><span class=\"a-icon-alt\">1.0 out of 5 stars</span></i>,\n",
       " <i class=\"a-icon a-icon-star a-star-4 review-rating\" data-hook=\"review-star-rating\"><span class=\"a-icon-alt\">4.0 out of 5 stars</span></i>,\n",
       " <i class=\"a-icon a-icon-star a-star-4 review-rating\" data-hook=\"review-star-rating\"><span class=\"a-icon-alt\">4.0 out of 5 stars</span></i>,\n",
       " <i class=\"a-icon a-icon-star a-star-1 review-rating\" data-hook=\"review-star-rating\"><span class=\"a-icon-alt\">1.0 out of 5 stars</span></i>,\n",
       " <i class=\"a-icon a-icon-star a-star-4 review-rating\" data-hook=\"review-star-rating\"><span class=\"a-icon-alt\">4.0 out of 5 stars</span></i>,\n",
       " <i class=\"a-icon a-icon-star a-star-1 review-rating\" data-hook=\"review-star-rating\"><span class=\"a-icon-alt\">1.0 out of 5 stars</span></i>,\n",
       " <i class=\"a-icon a-icon-star a-star-1 review-rating\" data-hook=\"review-star-rating\"><span class=\"a-icon-alt\">1.0 out of 5 stars</span></i>,\n",
       " <i class=\"a-icon a-icon-star a-star-5 review-rating\" data-hook=\"review-star-rating\"><span class=\"a-icon-alt\">5.0 out of 5 stars</span></i>,\n",
       " <i class=\"a-icon a-icon-star a-star-1 review-rating\" data-hook=\"review-star-rating\"><span class=\"a-icon-alt\">1.0 out of 5 stars</span></i>,\n",
       " <i class=\"a-icon a-icon-star a-star-5 review-rating\" data-hook=\"review-star-rating\"><span class=\"a-icon-alt\">5.0 out of 5 stars</span></i>]"
      ]
     },
     "execution_count": 26,
     "metadata": {},
     "output_type": "execute_result"
    }
   ],
   "source": [
    "rating = soup.find_all('i',class_='review-rating')\n",
    "rating"
   ]
  },
  {
   "cell_type": "code",
   "execution_count": 29,
   "metadata": {},
   "outputs": [
    {
     "data": {
      "text/plain": [
       "['4.0 out of 5 stars',\n",
       " '1.0 out of 5 stars',\n",
       " '1.0 out of 5 stars',\n",
       " '4.0 out of 5 stars',\n",
       " '4.0 out of 5 stars',\n",
       " '1.0 out of 5 stars',\n",
       " '4.0 out of 5 stars',\n",
       " '1.0 out of 5 stars',\n",
       " '1.0 out of 5 stars',\n",
       " '5.0 out of 5 stars',\n",
       " '1.0 out of 5 stars',\n",
       " '5.0 out of 5 stars']"
      ]
     },
     "execution_count": 29,
     "metadata": {},
     "output_type": "execute_result"
    }
   ],
   "source": [
    "rate = []\n",
    "for i in range(0,len(rating)):\n",
    "    rate.append(rating[i].get_text())\n",
    "rate"
   ]
  },
  {
   "cell_type": "code",
   "execution_count": 30,
   "metadata": {},
   "outputs": [
    {
     "data": {
      "text/plain": [
       "'4.0 out of 5 stars'"
      ]
     },
     "execution_count": 30,
     "metadata": {},
     "output_type": "execute_result"
    }
   ],
   "source": [
    "rate.pop(0)"
   ]
  },
  {
   "cell_type": "code",
   "execution_count": 31,
   "metadata": {},
   "outputs": [
    {
     "data": {
      "text/plain": [
       "'1.0 out of 5 stars'"
      ]
     },
     "execution_count": 31,
     "metadata": {},
     "output_type": "execute_result"
    }
   ],
   "source": [
    "rate.pop(0)"
   ]
  },
  {
   "cell_type": "code",
   "execution_count": 32,
   "metadata": {},
   "outputs": [
    {
     "data": {
      "text/plain": [
       "10"
      ]
     },
     "execution_count": 32,
     "metadata": {},
     "output_type": "execute_result"
    }
   ],
   "source": [
    "len(rate)"
   ]
  },
  {
   "cell_type": "code",
   "execution_count": 34,
   "metadata": {},
   "outputs": [
    {
     "data": {
      "text/plain": [
       "['1.0 out of 5 stars',\n",
       " '4.0 out of 5 stars',\n",
       " '4.0 out of 5 stars',\n",
       " '1.0 out of 5 stars',\n",
       " '4.0 out of 5 stars',\n",
       " '1.0 out of 5 stars',\n",
       " '1.0 out of 5 stars',\n",
       " '5.0 out of 5 stars',\n",
       " '1.0 out of 5 stars',\n",
       " '5.0 out of 5 stars']"
      ]
     },
     "execution_count": 34,
     "metadata": {},
     "output_type": "execute_result"
    }
   ],
   "source": [
    "rate"
   ]
  },
  {
   "cell_type": "code",
   "execution_count": 37,
   "metadata": {},
   "outputs": [
    {
     "data": {
      "text/plain": [
       "[<span class=\"a-size-base review-text review-text-content\" data-hook=\"review-body\">\n",
       " <span>\n",
       "   Delivery was fast but installation &amp; demo part takes approx 6 days.I choose the slot but guy didn't came and completed the installation process of its own on its app.Installation part is not done by 1+,they had given installation to Amazon, Amazon had given to Cloudtail,Cloudtail had given to Qdigi,Qdigi had given to another co.Guy who came to me didn't know how to set correct picture?They only know how to hang TV on wall else nothing. 3.5 mm jack is missing.Colour is better but not the best like Sony.SD channel quality is very poor,HD channel quality is poor.4k quality is good.So,if you have budget go for Sony for the best display and service after sales.If you don't have budget go for budget TV at least you will save money .If you can wait for at least 1 week for installation &amp; demo part you can go for 1+ TV  as installation co will say they are overloaded in this festive season as they have to install other company TV's also.2nd execuse will be 1+ TV is new so they don't know all about demo part.Kindly check full hd and SD picture quality before buying any TV as 4k content is not easy available in the market.\n",
       " </span>\n",
       " </span>,\n",
       " <span class=\"a-size-base review-text review-text-content\" data-hook=\"review-body\">\n",
       " <span>\n",
       "   There are dead pixels on a brand new tv. Called customer care multiple times since last 3 days, no one responding with concrete solution, just buying time. I have my return window till 10 Oct only, Please return or replace.<br/><br/>Update: Got the replacement now, and is good so far.<br/><br/>Update2: TV is performing excellent so far. Oneplus seems quite active in improving the quality.\n",
       " </span>\n",
       " </span>,\n",
       " <span class=\"a-size-base review-text review-text-content\" data-hook=\"review-body\">\n",
       " <span>\n",
       "   If you have used a One Plus smartphone you're already aware about how the brand gives you value for your every buck spent. If you're someone who majorly consume content online on OTT you should definitely get this TV.<br/><br/>Please skip this if you're going to watch your satellite TV as it's still isn't that great when it comes to upscaling SD content.<br/><br/>Pros:<br/>Brighter screen with vivid colors<br/>Android TV<br/>USB type chargeable TV remote<br/>Loud &amp; clear sound<br/><br/>Cons:<br/>Poor upscaling for SD content<br/>HDR content looks poor as of now<br/>Unavailability of Netflix as of now<br/>No Table top stand provided<br/><br/>Edit: The software update has fixed the HDR issue which I was facing earlier, Netflix isn't available yet.<br/><br/>Got a New remote with dedicated Netflix &amp; YouTube button, this one has a plastic body. Also the new remote works on AAA batteries\n",
       " </span>\n",
       " </span>,\n",
       " <span class=\"a-size-base review-text review-text-content\" data-hook=\"review-body\">\n",
       " <span>\n",
       "   Being a loyal OnePlus customer since OnePlus 2, had great expections from the TV. So much so that I was amongst the 1st customer to buy the TV on the 28th of September and much to my pleasure the TV was promptly delivered on the 30th.<br/><br/>However since then the experience has been pretty horrid to say the least.<br/>The installation slot was assigned on the 2nd of October at 10 am but the technician didn't show up until 3 pm, understandably that the technician are busy due to prime sale, I didn't pay much heed. The installation didn't take place that day, admittedly due to my own reservation.<br/>Finally after calling and pleading the technician again and again the TV was finally installed on the 5th, but much to my horror, the TV had a crack on the display. Upon taking up the issue, the Amazon team agreed to replace the TV immediately.<br/>But to replace the TV the technician has to file a report on the same and because my initial installation slot was on the 2nd, it expired. I was assigned a new slot for the 7th.<br/>As of today I am still waiting for the technician to report the TV to be damaged so that I can get a replacement.<br/><br/>Given the procedure, even thought I bought the TV on the 28th of September, sadly I won't be able to experience it before the 12th of October.<br/>The defected tv is just sitting in my living room since the 30th and just hurting my eyes everytime I look at it.\n",
       " </span>\n",
       " </span>,\n",
       " <span class=\"a-size-base review-text review-text-content\" data-hook=\"review-body\">\n",
       " <span>\n",
       "   Very impressive picture quality,and very smooth OS. Remote is chargeable like a phone,and the connect app just adds to the experience.\n",
       " </span>\n",
       " </span>,\n",
       " <span class=\"a-size-base review-text review-text-content\" data-hook=\"review-body\"><div class=\"a-section a-spacing-small a-spacing-top-mini video-block\" id=\"video-block-R3GIJ90A1XDB3U\"></div><input class=\"video-url\" name=\"\" type=\"hidden\" value=\"https://images-eu.ssl-images-amazon.com/images/I/A18XLIBN8hS.mp4\"/><input class=\"video-slate-img-url\" name=\"\" type=\"hidden\" value=\"https://images-eu.ssl-images-amazon.com/images/I/B1+6uaY7deS.png\"/>\n",
       " <span>\n",
       "    Any one getting pink screen?<br/><br/>TV has major fault of showing pinkish colour. Tried resetting TV many times.<br/><br/>Got a defective piece. Left Half the screen was black.<br/><br/>I must be the one in first 5customers of this TV in my town, got the tv in prime sale installed even before it went on official sale.<br/><br/>Had such a difficult time with Amazon to get it replaced. They took 11+ days to get it replaced. That's after 7-8 hours of overall phone calls to  Amazon and one+ call centers .<br/>it was quite frustrating experience.<br/><br/>Everything that is expected from this TV is beyond expectations.<br/><br/>All clutter is gone from my tv set.<br/>Most imp, this TV got I build sound bar with amazing quality. This helped me get rid of all wiring and devices that were required to get good sound from flat TV.<br/><br/>You need only one wire that's power cable if nt using any hdmi source.<br/><br/>Picture is amazing.<br/>Adjusting colors not easy. Still Having trouble to make color calibration work effectively with my ps4.<br/><br/>Internet connectivity is amazing<br/><br/> Adsusting sound is not easy. No preset sound modes.<br/><br/>Remote is small sleek and useful. But not very responsive. It takes time to get response back from TV.<br/><br/>Remember!!!!<br/>TV screen is very very very delicate. Be careful if you plan to relocate.<br/><br/>Installation people don't know much about installation. Stand beside them to check if they follow instructions that came with TV.\n",
       " </span>\n",
       " </span>,\n",
       " <span class=\"a-size-base review-text review-text-content\" data-hook=\"review-body\">\n",
       " <span>\n",
       "   Day1:<br/>This z my first smart tv so unable to compare with other tvs..but this QLED was awesome...enjoying<br/><br/>Edit1:<br/><br/>I got a defective product...the picture is showing some pinkish/reddish showing other than actual colour.i need to change the settings daily for this issue\n",
       " </span>\n",
       " </span>,\n",
       " <span class=\"a-size-base review-text review-text-content\" data-hook=\"review-body\">\n",
       " <span>\n",
       "   5 Star for OnePlus TV as a Product.<br/>2 Star for the installation Service.<br/><br/>TV definitely is a great buy. Great Quality and Dolby Vision. All you can see in different youtube comparison videos.<br/><br/>I had options either to go with Samsung Frame of OnePlus. I choose OnePlus because do not want a dedicated Art TV and samsung art TV is loaded with bloats. I myself compared both in person now I see they are almost similar. Game Of Thrones final episode on both the TV is not perfect but better than many other TV in the  price range of under 1.2 Lakh. Though OnePlus is a bit cheaper than samsung frame quality is a marginally above Samsung. Sound is great on Q1 and I do not feel reviewing it as installing a separate soundbar with sub woofer is what I prefer.<br/><br/>Pros:<br/>- Good Price Range.<br/>- QLED panel outshines everything in your living room.<br/>- Android Mobile Apps APK sideloaded are cropped towards left. (something they may need to fix.<br/><br/>Cons:<br/>- No Cons for TV.<br/>- Amazon service is pathetic. They denied installation at my pincode and I had to go with many troubles for getting it installed locally. (it goes away from buyers pocket)\n",
       " </span>\n",
       " </span>,\n",
       " <span class=\"a-size-base review-text review-text-content\" data-hook=\"review-body\">\n",
       " <span>\n",
       "   Did not like the TV at all. go for Samsung LG or Sony in similar price range to get all the apps running falwlessly. Very limited apps available, Netflix not available. Neither am I able to cast Netflix from my OnePlus 6t phone.<br/>Picture quality is far better when same app being played  using fire stick compared to  native apps. Native Prime video app also sucks. Expected much more from OnePlus, the playstore contains very limited app, almost of no use. I had a 4k TCL smart TV of cost around 30 k, I felt this TV is not doing better in any ways. The sound quality is better, but one still need good sound system.\n",
       " </span>\n",
       " </span>,\n",
       " <span class=\"a-size-base review-text review-text-content\" data-hook=\"review-body\">\n",
       " <span>\n",
       "   Edit:<br/>My concerns are heard!! I got an update with that all the issues in my TV has been fixed. Updating to 4 star.<br/><br/>I booked the TV on the first day, just  believed in OnePlus brand. But its a big letdown from them for their loyal customers. My TV have defects and I have been following up with customer care many times to sort that out but in vain.<br/>Problem:<br/>Whenever put the TV to standby from live channels and power on, it doesn't goes to live channels directly but it goes to apps page and you have to use your TV remote choose the input and then you have to use the settop box remote.<br/><br/>Similarly, power off the TV should power off/standby  the settop box as well , but it doesn't do. For both of these options are available in TV , but it doesn't work for my TV.<br/><br/>Customer care team doesnot have any knowledge about the TV , everytime they say they will come back with solution but it never worked but they still close the case.<br/><br/>Remote is too small to hold and have delicate buttons. It is difficult to keep it safe.<br/><br/>Rest of them are fine.\n",
       " </span>\n",
       " </span>]"
      ]
     },
     "execution_count": 37,
     "metadata": {},
     "output_type": "execute_result"
    }
   ],
   "source": [
    "review = soup.find_all(\"span\",{\"data-hook\":\"review-body\"})\n",
    "review"
   ]
  },
  {
   "cell_type": "code",
   "execution_count": 38,
   "metadata": {},
   "outputs": [
    {
     "data": {
      "text/plain": [
       "10"
      ]
     },
     "execution_count": 38,
     "metadata": {},
     "output_type": "execute_result"
    }
   ],
   "source": [
    "len(review)"
   ]
  },
  {
   "cell_type": "code",
   "execution_count": 40,
   "metadata": {},
   "outputs": [
    {
     "data": {
      "text/plain": [
       "[\"\\n\\n  Delivery was fast but installation & demo part takes approx 6 days.I choose the slot but guy didn't came and completed the installation process of its own on its app.Installation part is not done by 1+,they had given installation to Amazon, Amazon had given to Cloudtail,Cloudtail had given to Qdigi,Qdigi had given to another co.Guy who came to me didn't know how to set correct picture?They only know how to hang TV on wall else nothing. 3.5 mm jack is missing.Colour is better but not the best like Sony.SD channel quality is very poor,HD channel quality is poor.4k quality is good.So,if you have budget go for Sony for the best display and service after sales.If you don't have budget go for budget TV at least you will save money .If you can wait for at least 1 week for installation & demo part you can go for 1+ TV  as installation co will say they are overloaded in this festive season as they have to install other company TV's also.2nd execuse will be 1+ TV is new so they don't know all about demo part.Kindly check full hd and SD picture quality before buying any TV as 4k content is not easy available in the market.\\n\\n\",\n",
       " '\\n\\n  There are dead pixels on a brand new tv. Called customer care multiple times since last 3 days, no one responding with concrete solution, just buying time. I have my return window till 10 Oct only, Please return or replace.Update: Got the replacement now, and is good so far.Update2: TV is performing excellent so far. Oneplus seems quite active in improving the quality.\\n\\n',\n",
       " \"\\n\\n  If you have used a One Plus smartphone you're already aware about how the brand gives you value for your every buck spent. If you're someone who majorly consume content online on OTT you should definitely get this TV.Please skip this if you're going to watch your satellite TV as it's still isn't that great when it comes to upscaling SD content.Pros:Brighter screen with vivid colorsAndroid TVUSB type chargeable TV remoteLoud & clear soundCons:Poor upscaling for SD contentHDR content looks poor as of nowUnavailability of Netflix as of nowNo Table top stand providedEdit: The software update has fixed the HDR issue which I was facing earlier, Netflix isn't available yet.Got a New remote with dedicated Netflix & YouTube button, this one has a plastic body. Also the new remote works on AAA batteries\\n\\n\",\n",
       " \"\\n\\n  Being a loyal OnePlus customer since OnePlus 2, had great expections from the TV. So much so that I was amongst the 1st customer to buy the TV on the 28th of September and much to my pleasure the TV was promptly delivered on the 30th.However since then the experience has been pretty horrid to say the least.The installation slot was assigned on the 2nd of October at 10 am but the technician didn't show up until 3 pm, understandably that the technician are busy due to prime sale, I didn't pay much heed. The installation didn't take place that day, admittedly due to my own reservation.Finally after calling and pleading the technician again and again the TV was finally installed on the 5th, but much to my horror, the TV had a crack on the display. Upon taking up the issue, the Amazon team agreed to replace the TV immediately.But to replace the TV the technician has to file a report on the same and because my initial installation slot was on the 2nd, it expired. I was assigned a new slot for the 7th.As of today I am still waiting for the technician to report the TV to be damaged so that I can get a replacement.Given the procedure, even thought I bought the TV on the 28th of September, sadly I won't be able to experience it before the 12th of October.The defected tv is just sitting in my living room since the 30th and just hurting my eyes everytime I look at it.\\n\\n\",\n",
       " '\\n\\n  Very impressive picture quality,and very smooth OS. Remote is chargeable like a phone,and the connect app just adds to the experience.\\n\\n',\n",
       " \"\\n\\n  \\xa0Any one getting pink screen?TV has major fault of showing pinkish colour. Tried resetting TV many times.Got a defective piece. Left Half the screen was black.I must be the one in first 5customers of this TV in my town, got the tv in prime sale installed even before it went on official sale.Had such a difficult time with Amazon to get it replaced. They took 11+ days to get it replaced. That's after 7-8 hours of overall phone calls to  Amazon and one+ call centers .it was quite frustrating experience.Everything that is expected from this TV is beyond expectations.All clutter is gone from my tv set.Most imp, this TV got I build sound bar with amazing quality. This helped me get rid of all wiring and devices that were required to get good sound from flat TV.You need only one wire that's power cable if nt using any hdmi source.Picture is amazing.Adjusting colors not easy. Still Having trouble to make color calibration work effectively with my ps4.Internet connectivity is amazing Adsusting sound is not easy. No preset sound modes.Remote is small sleek and useful. But not very responsive. It takes time to get response back from TV.Remember!!!!TV screen is very very very delicate. Be careful if you plan to relocate.Installation people don't know much about installation. Stand beside them to check if they follow instructions that came with TV.\\n\\n\",\n",
       " '\\n\\n  Day1:This z my first smart tv so unable to compare with other tvs..but this QLED was awesome...enjoyingEdit1:I got a defective product...the picture is showing some pinkish/reddish showing other than actual colour.i need to change the settings daily for this issue\\n\\n',\n",
       " '\\n\\n  5 Star for OnePlus TV as a Product.2 Star for the installation Service.TV definitely is a great buy. Great Quality and Dolby Vision. All you can see in different youtube comparison videos.I had options either to go with Samsung Frame of OnePlus. I choose OnePlus because do not want a dedicated Art TV and samsung art TV is loaded with bloats. I myself compared both in person now I see they are almost similar. Game Of Thrones final episode on both the TV is not perfect but better than many other TV in the  price range of under 1.2 Lakh. Though OnePlus is a bit cheaper than samsung frame quality is a marginally above Samsung. Sound is great on Q1 and I do not feel reviewing it as installing a separate soundbar with sub woofer is what I prefer.Pros:- Good Price Range.- QLED panel outshines everything in your living room.- Android Mobile Apps APK sideloaded are cropped towards left. (something they may need to fix.Cons:- No Cons for TV.- Amazon service is pathetic. They denied installation at my pincode and I had to go with many troubles for getting it installed locally. (it goes away from buyers pocket)\\n\\n',\n",
       " '\\n\\n  Did not like the TV at all. go for Samsung LG or Sony in similar price range to get all the apps running falwlessly. Very limited apps available, Netflix not available. Neither am I able to cast Netflix from my OnePlus 6t phone.Picture quality is far better when same app being played  using fire stick compared to  native apps. Native Prime video app also sucks. Expected much more from OnePlus, the playstore contains very limited app, almost of no use. I had a 4k TCL smart TV of cost around 30 k, I felt this TV is not doing better in any ways. The sound quality is better, but one still need good sound system.\\n\\n',\n",
       " \"\\n\\n  Edit:My concerns are heard!! I got an update with that all the issues in my TV has been fixed. Updating to 4 star.I booked the TV on the first day, just  believed in OnePlus brand. But its a big letdown from them for their loyal customers. My TV have defects and I have been following up with customer care many times to sort that out but in vain.Problem:Whenever put the TV to standby from live channels and power on, it doesn't goes to live channels directly but it goes to apps page and you have to use your TV remote choose the input and then you have to use the settop box remote.Similarly, power off the TV should power off/standby  the settop box as well , but it doesn't do. For both of these options are available in TV , but it doesn't work for my TV.Customer care team doesnot have any knowledge about the TV , everytime they say they will come back with solution but it never worked but they still close the case.Remote is too small to hold and have delicate buttons. It is difficult to keep it safe.Rest of them are fine.\\n\\n\"]"
      ]
     },
     "execution_count": 40,
     "metadata": {},
     "output_type": "execute_result"
    }
   ],
   "source": [
    "review_content = []\n",
    "for i in range(0,len(review)):\n",
    "    review_content.append(review[i].get_text())\n",
    "review_content"
   ]
  },
  {
   "cell_type": "code",
   "execution_count": 41,
   "metadata": {},
   "outputs": [
    {
     "data": {
      "text/plain": [
       "10"
      ]
     },
     "execution_count": 41,
     "metadata": {},
     "output_type": "execute_result"
    }
   ],
   "source": [
    "len(review)"
   ]
  },
  {
   "cell_type": "code",
   "execution_count": 42,
   "metadata": {},
   "outputs": [
    {
     "data": {
      "text/plain": [
       "[\"  Delivery was fast but installation & demo part takes approx 6 days.I choose the slot but guy didn't came and completed the installation process of its own on its app.Installation part is not done by 1+,they had given installation to Amazon, Amazon had given to Cloudtail,Cloudtail had given to Qdigi,Qdigi had given to another co.Guy who came to me didn't know how to set correct picture?They only know how to hang TV on wall else nothing. 3.5 mm jack is missing.Colour is better but not the best like Sony.SD channel quality is very poor,HD channel quality is poor.4k quality is good.So,if you have budget go for Sony for the best display and service after sales.If you don't have budget go for budget TV at least you will save money .If you can wait for at least 1 week for installation & demo part you can go for 1+ TV  as installation co will say they are overloaded in this festive season as they have to install other company TV's also.2nd execuse will be 1+ TV is new so they don't know all about demo part.Kindly check full hd and SD picture quality before buying any TV as 4k content is not easy available in the market.\\n\\n\",\n",
       " '  There are dead pixels on a brand new tv. Called customer care multiple times since last 3 days, no one responding with concrete solution, just buying time. I have my return window till 10 Oct only, Please return or replace.Update: Got the replacement now, and is good so far.Update2: TV is performing excellent so far. Oneplus seems quite active in improving the quality.\\n\\n',\n",
       " \"  If you have used a One Plus smartphone you're already aware about how the brand gives you value for your every buck spent. If you're someone who majorly consume content online on OTT you should definitely get this TV.Please skip this if you're going to watch your satellite TV as it's still isn't that great when it comes to upscaling SD content.Pros:Brighter screen with vivid colorsAndroid TVUSB type chargeable TV remoteLoud & clear soundCons:Poor upscaling for SD contentHDR content looks poor as of nowUnavailability of Netflix as of nowNo Table top stand providedEdit: The software update has fixed the HDR issue which I was facing earlier, Netflix isn't available yet.Got a New remote with dedicated Netflix & YouTube button, this one has a plastic body. Also the new remote works on AAA batteries\\n\\n\",\n",
       " \"  Being a loyal OnePlus customer since OnePlus 2, had great expections from the TV. So much so that I was amongst the 1st customer to buy the TV on the 28th of September and much to my pleasure the TV was promptly delivered on the 30th.However since then the experience has been pretty horrid to say the least.The installation slot was assigned on the 2nd of October at 10 am but the technician didn't show up until 3 pm, understandably that the technician are busy due to prime sale, I didn't pay much heed. The installation didn't take place that day, admittedly due to my own reservation.Finally after calling and pleading the technician again and again the TV was finally installed on the 5th, but much to my horror, the TV had a crack on the display. Upon taking up the issue, the Amazon team agreed to replace the TV immediately.But to replace the TV the technician has to file a report on the same and because my initial installation slot was on the 2nd, it expired. I was assigned a new slot for the 7th.As of today I am still waiting for the technician to report the TV to be damaged so that I can get a replacement.Given the procedure, even thought I bought the TV on the 28th of September, sadly I won't be able to experience it before the 12th of October.The defected tv is just sitting in my living room since the 30th and just hurting my eyes everytime I look at it.\\n\\n\",\n",
       " '  Very impressive picture quality,and very smooth OS. Remote is chargeable like a phone,and the connect app just adds to the experience.\\n\\n',\n",
       " \"  \\xa0Any one getting pink screen?TV has major fault of showing pinkish colour. Tried resetting TV many times.Got a defective piece. Left Half the screen was black.I must be the one in first 5customers of this TV in my town, got the tv in prime sale installed even before it went on official sale.Had such a difficult time with Amazon to get it replaced. They took 11+ days to get it replaced. That's after 7-8 hours of overall phone calls to  Amazon and one+ call centers .it was quite frustrating experience.Everything that is expected from this TV is beyond expectations.All clutter is gone from my tv set.Most imp, this TV got I build sound bar with amazing quality. This helped me get rid of all wiring and devices that were required to get good sound from flat TV.You need only one wire that's power cable if nt using any hdmi source.Picture is amazing.Adjusting colors not easy. Still Having trouble to make color calibration work effectively with my ps4.Internet connectivity is amazing Adsusting sound is not easy. No preset sound modes.Remote is small sleek and useful. But not very responsive. It takes time to get response back from TV.Remember!!!!TV screen is very very very delicate. Be careful if you plan to relocate.Installation people don't know much about installation. Stand beside them to check if they follow instructions that came with TV.\\n\\n\",\n",
       " '  Day1:This z my first smart tv so unable to compare with other tvs..but this QLED was awesome...enjoyingEdit1:I got a defective product...the picture is showing some pinkish/reddish showing other than actual colour.i need to change the settings daily for this issue\\n\\n',\n",
       " '  5 Star for OnePlus TV as a Product.2 Star for the installation Service.TV definitely is a great buy. Great Quality and Dolby Vision. All you can see in different youtube comparison videos.I had options either to go with Samsung Frame of OnePlus. I choose OnePlus because do not want a dedicated Art TV and samsung art TV is loaded with bloats. I myself compared both in person now I see they are almost similar. Game Of Thrones final episode on both the TV is not perfect but better than many other TV in the  price range of under 1.2 Lakh. Though OnePlus is a bit cheaper than samsung frame quality is a marginally above Samsung. Sound is great on Q1 and I do not feel reviewing it as installing a separate soundbar with sub woofer is what I prefer.Pros:- Good Price Range.- QLED panel outshines everything in your living room.- Android Mobile Apps APK sideloaded are cropped towards left. (something they may need to fix.Cons:- No Cons for TV.- Amazon service is pathetic. They denied installation at my pincode and I had to go with many troubles for getting it installed locally. (it goes away from buyers pocket)\\n\\n',\n",
       " '  Did not like the TV at all. go for Samsung LG or Sony in similar price range to get all the apps running falwlessly. Very limited apps available, Netflix not available. Neither am I able to cast Netflix from my OnePlus 6t phone.Picture quality is far better when same app being played  using fire stick compared to  native apps. Native Prime video app also sucks. Expected much more from OnePlus, the playstore contains very limited app, almost of no use. I had a 4k TCL smart TV of cost around 30 k, I felt this TV is not doing better in any ways. The sound quality is better, but one still need good sound system.\\n\\n',\n",
       " \"  Edit:My concerns are heard!! I got an update with that all the issues in my TV has been fixed. Updating to 4 star.I booked the TV on the first day, just  believed in OnePlus brand. But its a big letdown from them for their loyal customers. My TV have defects and I have been following up with customer care many times to sort that out but in vain.Problem:Whenever put the TV to standby from live channels and power on, it doesn't goes to live channels directly but it goes to apps page and you have to use your TV remote choose the input and then you have to use the settop box remote.Similarly, power off the TV should power off/standby  the settop box as well , but it doesn't do. For both of these options are available in TV , but it doesn't work for my TV.Customer care team doesnot have any knowledge about the TV , everytime they say they will come back with solution but it never worked but they still close the case.Remote is too small to hold and have delicate buttons. It is difficult to keep it safe.Rest of them are fine.\\n\\n\"]"
      ]
     },
     "execution_count": 42,
     "metadata": {},
     "output_type": "execute_result"
    }
   ],
   "source": [
    "review_content[:] = [reviews.lstrip('\\n') for reviews in review_content]\n",
    "review_content"
   ]
  },
  {
   "cell_type": "code",
   "execution_count": 44,
   "metadata": {},
   "outputs": [
    {
     "data": {
      "text/plain": [
       "[\"  Delivery was fast but installation & demo part takes approx 6 days.I choose the slot but guy didn't came and completed the installation process of its own on its app.Installation part is not done by 1+,they had given installation to Amazon, Amazon had given to Cloudtail,Cloudtail had given to Qdigi,Qdigi had given to another co.Guy who came to me didn't know how to set correct picture?They only know how to hang TV on wall else nothing. 3.5 mm jack is missing.Colour is better but not the best like Sony.SD channel quality is very poor,HD channel quality is poor.4k quality is good.So,if you have budget go for Sony for the best display and service after sales.If you don't have budget go for budget TV at least you will save money .If you can wait for at least 1 week for installation & demo part you can go for 1+ TV  as installation co will say they are overloaded in this festive season as they have to install other company TV's also.2nd execuse will be 1+ TV is new so they don't know all about demo part.Kindly check full hd and SD picture quality before buying any TV as 4k content is not easy available in the market.\",\n",
       " '  There are dead pixels on a brand new tv. Called customer care multiple times since last 3 days, no one responding with concrete solution, just buying time. I have my return window till 10 Oct only, Please return or replace.Update: Got the replacement now, and is good so far.Update2: TV is performing excellent so far. Oneplus seems quite active in improving the quality.',\n",
       " \"  If you have used a One Plus smartphone you're already aware about how the brand gives you value for your every buck spent. If you're someone who majorly consume content online on OTT you should definitely get this TV.Please skip this if you're going to watch your satellite TV as it's still isn't that great when it comes to upscaling SD content.Pros:Brighter screen with vivid colorsAndroid TVUSB type chargeable TV remoteLoud & clear soundCons:Poor upscaling for SD contentHDR content looks poor as of nowUnavailability of Netflix as of nowNo Table top stand providedEdit: The software update has fixed the HDR issue which I was facing earlier, Netflix isn't available yet.Got a New remote with dedicated Netflix & YouTube button, this one has a plastic body. Also the new remote works on AAA batteries\",\n",
       " \"  Being a loyal OnePlus customer since OnePlus 2, had great expections from the TV. So much so that I was amongst the 1st customer to buy the TV on the 28th of September and much to my pleasure the TV was promptly delivered on the 30th.However since then the experience has been pretty horrid to say the least.The installation slot was assigned on the 2nd of October at 10 am but the technician didn't show up until 3 pm, understandably that the technician are busy due to prime sale, I didn't pay much heed. The installation didn't take place that day, admittedly due to my own reservation.Finally after calling and pleading the technician again and again the TV was finally installed on the 5th, but much to my horror, the TV had a crack on the display. Upon taking up the issue, the Amazon team agreed to replace the TV immediately.But to replace the TV the technician has to file a report on the same and because my initial installation slot was on the 2nd, it expired. I was assigned a new slot for the 7th.As of today I am still waiting for the technician to report the TV to be damaged so that I can get a replacement.Given the procedure, even thought I bought the TV on the 28th of September, sadly I won't be able to experience it before the 12th of October.The defected tv is just sitting in my living room since the 30th and just hurting my eyes everytime I look at it.\",\n",
       " '  Very impressive picture quality,and very smooth OS. Remote is chargeable like a phone,and the connect app just adds to the experience.',\n",
       " \"  \\xa0Any one getting pink screen?TV has major fault of showing pinkish colour. Tried resetting TV many times.Got a defective piece. Left Half the screen was black.I must be the one in first 5customers of this TV in my town, got the tv in prime sale installed even before it went on official sale.Had such a difficult time with Amazon to get it replaced. They took 11+ days to get it replaced. That's after 7-8 hours of overall phone calls to  Amazon and one+ call centers .it was quite frustrating experience.Everything that is expected from this TV is beyond expectations.All clutter is gone from my tv set.Most imp, this TV got I build sound bar with amazing quality. This helped me get rid of all wiring and devices that were required to get good sound from flat TV.You need only one wire that's power cable if nt using any hdmi source.Picture is amazing.Adjusting colors not easy. Still Having trouble to make color calibration work effectively with my ps4.Internet connectivity is amazing Adsusting sound is not easy. No preset sound modes.Remote is small sleek and useful. But not very responsive. It takes time to get response back from TV.Remember!!!!TV screen is very very very delicate. Be careful if you plan to relocate.Installation people don't know much about installation. Stand beside them to check if they follow instructions that came with TV.\",\n",
       " '  Day1:This z my first smart tv so unable to compare with other tvs..but this QLED was awesome...enjoyingEdit1:I got a defective product...the picture is showing some pinkish/reddish showing other than actual colour.i need to change the settings daily for this issue',\n",
       " '  5 Star for OnePlus TV as a Product.2 Star for the installation Service.TV definitely is a great buy. Great Quality and Dolby Vision. All you can see in different youtube comparison videos.I had options either to go with Samsung Frame of OnePlus. I choose OnePlus because do not want a dedicated Art TV and samsung art TV is loaded with bloats. I myself compared both in person now I see they are almost similar. Game Of Thrones final episode on both the TV is not perfect but better than many other TV in the  price range of under 1.2 Lakh. Though OnePlus is a bit cheaper than samsung frame quality is a marginally above Samsung. Sound is great on Q1 and I do not feel reviewing it as installing a separate soundbar with sub woofer is what I prefer.Pros:- Good Price Range.- QLED panel outshines everything in your living room.- Android Mobile Apps APK sideloaded are cropped towards left. (something they may need to fix.Cons:- No Cons for TV.- Amazon service is pathetic. They denied installation at my pincode and I had to go with many troubles for getting it installed locally. (it goes away from buyers pocket)',\n",
       " '  Did not like the TV at all. go for Samsung LG or Sony in similar price range to get all the apps running falwlessly. Very limited apps available, Netflix not available. Neither am I able to cast Netflix from my OnePlus 6t phone.Picture quality is far better when same app being played  using fire stick compared to  native apps. Native Prime video app also sucks. Expected much more from OnePlus, the playstore contains very limited app, almost of no use. I had a 4k TCL smart TV of cost around 30 k, I felt this TV is not doing better in any ways. The sound quality is better, but one still need good sound system.',\n",
       " \"  Edit:My concerns are heard!! I got an update with that all the issues in my TV has been fixed. Updating to 4 star.I booked the TV on the first day, just  believed in OnePlus brand. But its a big letdown from them for their loyal customers. My TV have defects and I have been following up with customer care many times to sort that out but in vain.Problem:Whenever put the TV to standby from live channels and power on, it doesn't goes to live channels directly but it goes to apps page and you have to use your TV remote choose the input and then you have to use the settop box remote.Similarly, power off the TV should power off/standby  the settop box as well , but it doesn't do. For both of these options are available in TV , but it doesn't work for my TV.Customer care team doesnot have any knowledge about the TV , everytime they say they will come back with solution but it never worked but they still close the case.Remote is too small to hold and have delicate buttons. It is difficult to keep it safe.Rest of them are fine.\"]"
      ]
     },
     "execution_count": 44,
     "metadata": {},
     "output_type": "execute_result"
    }
   ],
   "source": [
    "review_content[:] = [reviews.rstrip('\\n') for reviews in review_content]\n",
    "review_content"
   ]
  },
  {
   "cell_type": "code",
   "execution_count": 45,
   "metadata": {},
   "outputs": [
    {
     "data": {
      "text/plain": [
       "10"
      ]
     },
     "execution_count": 45,
     "metadata": {},
     "output_type": "execute_result"
    }
   ],
   "source": [
    "len(review_content)"
   ]
  },
  {
   "cell_type": "code",
   "execution_count": 47,
   "metadata": {},
   "outputs": [
    {
     "data": {
      "text/plain": [
       "[\"  Delivery was fast but installation & demo part takes approx 6 days.I choose the slot but guy didn't came and completed the installation process of its own on its app.Installation part is not done by 1+,they had given installation to Amazon, Amazon had given to Cloudtail,Cloudtail had given to Qdigi,Qdigi had given to another co.Guy who came to me didn't know how to set correct picture?They only know how to hang TV on wall else nothing. 3.5 mm jack is missing.Colour is better but not the best like Sony.SD channel quality is very poor,HD channel quality is poor.4k quality is good.So,if you have budget go for Sony for the best display and service after sales.If you don't have budget go for budget TV at least you will save money .If you can wait for at least 1 week for installation & demo part you can go for 1+ TV  as installation co will say they are overloaded in this festive season as they have to install other company TV's also.2nd execuse will be 1+ TV is new so they don't know all about demo part.Kindly check full hd and SD picture quality before buying any TV as 4k content is not easy available in the market.\",\n",
       " '  There are dead pixels on a brand new tv. Called customer care multiple times since last 3 days, no one responding with concrete solution, just buying time. I have my return window till 10 Oct only, Please return or replace.Update: Got the replacement now, and is good so far.Update2: TV is performing excellent so far. Oneplus seems quite active in improving the quality.',\n",
       " \"  If you have used a One Plus smartphone you're already aware about how the brand gives you value for your every buck spent. If you're someone who majorly consume content online on OTT you should definitely get this TV.Please skip this if you're going to watch your satellite TV as it's still isn't that great when it comes to upscaling SD content.Pros:Brighter screen with vivid colorsAndroid TVUSB type chargeable TV remoteLoud & clear soundCons:Poor upscaling for SD contentHDR content looks poor as of nowUnavailability of Netflix as of nowNo Table top stand providedEdit: The software update has fixed the HDR issue which I was facing earlier, Netflix isn't available yet.Got a New remote with dedicated Netflix & YouTube button, this one has a plastic body. Also the new remote works on AAA batteries\",\n",
       " \"  Being a loyal OnePlus customer since OnePlus 2, had great expections from the TV. So much so that I was amongst the 1st customer to buy the TV on the 28th of September and much to my pleasure the TV was promptly delivered on the 30th.However since then the experience has been pretty horrid to say the least.The installation slot was assigned on the 2nd of October at 10 am but the technician didn't show up until 3 pm, understandably that the technician are busy due to prime sale, I didn't pay much heed. The installation didn't take place that day, admittedly due to my own reservation.Finally after calling and pleading the technician again and again the TV was finally installed on the 5th, but much to my horror, the TV had a crack on the display. Upon taking up the issue, the Amazon team agreed to replace the TV immediately.But to replace the TV the technician has to file a report on the same and because my initial installation slot was on the 2nd, it expired. I was assigned a new slot for the 7th.As of today I am still waiting for the technician to report the TV to be damaged so that I can get a replacement.Given the procedure, even thought I bought the TV on the 28th of September, sadly I won't be able to experience it before the 12th of October.The defected tv is just sitting in my living room since the 30th and just hurting my eyes everytime I look at it.\",\n",
       " '  Very impressive picture quality,and very smooth OS. Remote is chargeable like a phone,and the connect app just adds to the experience.',\n",
       " \"  \\xa0Any one getting pink screen?TV has major fault of showing pinkish colour. Tried resetting TV many times.Got a defective piece. Left Half the screen was black.I must be the one in first 5customers of this TV in my town, got the tv in prime sale installed even before it went on official sale.Had such a difficult time with Amazon to get it replaced. They took 11+ days to get it replaced. That's after 7-8 hours of overall phone calls to  Amazon and one+ call centers .it was quite frustrating experience.Everything that is expected from this TV is beyond expectations.All clutter is gone from my tv set.Most imp, this TV got I build sound bar with amazing quality. This helped me get rid of all wiring and devices that were required to get good sound from flat TV.You need only one wire that's power cable if nt using any hdmi source.Picture is amazing.Adjusting colors not easy. Still Having trouble to make color calibration work effectively with my ps4.Internet connectivity is amazing Adsusting sound is not easy. No preset sound modes.Remote is small sleek and useful. But not very responsive. It takes time to get response back from TV.Remember!!!!TV screen is very very very delicate. Be careful if you plan to relocate.Installation people don't know much about installation. Stand beside them to check if they follow instructions that came with TV.\",\n",
       " '  Day1:This z my first smart tv so unable to compare with other tvs..but this QLED was awesome...enjoyingEdit1:I got a defective product...the picture is showing some pinkish/reddish showing other than actual colour.i need to change the settings daily for this issue',\n",
       " '  5 Star for OnePlus TV as a Product.2 Star for the installation Service.TV definitely is a great buy. Great Quality and Dolby Vision. All you can see in different youtube comparison videos.I had options either to go with Samsung Frame of OnePlus. I choose OnePlus because do not want a dedicated Art TV and samsung art TV is loaded with bloats. I myself compared both in person now I see they are almost similar. Game Of Thrones final episode on both the TV is not perfect but better than many other TV in the  price range of under 1.2 Lakh. Though OnePlus is a bit cheaper than samsung frame quality is a marginally above Samsung. Sound is great on Q1 and I do not feel reviewing it as installing a separate soundbar with sub woofer is what I prefer.Pros:- Good Price Range.- QLED panel outshines everything in your living room.- Android Mobile Apps APK sideloaded are cropped towards left. (something they may need to fix.Cons:- No Cons for TV.- Amazon service is pathetic. They denied installation at my pincode and I had to go with many troubles for getting it installed locally. (it goes away from buyers pocket)',\n",
       " '  Did not like the TV at all. go for Samsung LG or Sony in similar price range to get all the apps running falwlessly. Very limited apps available, Netflix not available. Neither am I able to cast Netflix from my OnePlus 6t phone.Picture quality is far better when same app being played  using fire stick compared to  native apps. Native Prime video app also sucks. Expected much more from OnePlus, the playstore contains very limited app, almost of no use. I had a 4k TCL smart TV of cost around 30 k, I felt this TV is not doing better in any ways. The sound quality is better, but one still need good sound system.',\n",
       " \"  Edit:My concerns are heard!! I got an update with that all the issues in my TV has been fixed. Updating to 4 star.I booked the TV on the first day, just  believed in OnePlus brand. But its a big letdown from them for their loyal customers. My TV have defects and I have been following up with customer care many times to sort that out but in vain.Problem:Whenever put the TV to standby from live channels and power on, it doesn't goes to live channels directly but it goes to apps page and you have to use your TV remote choose the input and then you have to use the settop box remote.Similarly, power off the TV should power off/standby  the settop box as well , but it doesn't do. For both of these options are available in TV , but it doesn't work for my TV.Customer care team doesnot have any knowledge about the TV , everytime they say they will come back with solution but it never worked but they still close the case.Remote is too small to hold and have delicate buttons. It is difficult to keep it safe.Rest of them are fine.\"]"
      ]
     },
     "execution_count": 47,
     "metadata": {},
     "output_type": "execute_result"
    }
   ],
   "source": [
    "cust_name\n",
    "review_title\n",
    "rate\n",
    "review_content"
   ]
  },
  {
   "cell_type": "code",
   "execution_count": 48,
   "metadata": {},
   "outputs": [],
   "source": [
    "import pandas as pd"
   ]
  },
  {
   "cell_type": "code",
   "execution_count": 50,
   "metadata": {},
   "outputs": [],
   "source": [
    "df = pd.DataFrame()"
   ]
  },
  {
   "cell_type": "code",
   "execution_count": 51,
   "metadata": {},
   "outputs": [
    {
     "data": {
      "text/html": [
       "<div>\n",
       "<style scoped>\n",
       "    .dataframe tbody tr th:only-of-type {\n",
       "        vertical-align: middle;\n",
       "    }\n",
       "\n",
       "    .dataframe tbody tr th {\n",
       "        vertical-align: top;\n",
       "    }\n",
       "\n",
       "    .dataframe thead th {\n",
       "        text-align: right;\n",
       "    }\n",
       "</style>\n",
       "<table border=\"1\" class=\"dataframe\">\n",
       "  <thead>\n",
       "    <tr style=\"text-align: right;\">\n",
       "      <th></th>\n",
       "    </tr>\n",
       "  </thead>\n",
       "  <tbody>\n",
       "  </tbody>\n",
       "</table>\n",
       "</div>"
      ],
      "text/plain": [
       "Empty DataFrame\n",
       "Columns: []\n",
       "Index: []"
      ]
     },
     "execution_count": 51,
     "metadata": {},
     "output_type": "execute_result"
    }
   ],
   "source": [
    "df"
   ]
  },
  {
   "cell_type": "code",
   "execution_count": 54,
   "metadata": {},
   "outputs": [
    {
     "data": {
      "text/html": [
       "<div>\n",
       "<style scoped>\n",
       "    .dataframe tbody tr th:only-of-type {\n",
       "        vertical-align: middle;\n",
       "    }\n",
       "\n",
       "    .dataframe tbody tr th {\n",
       "        vertical-align: top;\n",
       "    }\n",
       "\n",
       "    .dataframe thead th {\n",
       "        text-align: right;\n",
       "    }\n",
       "</style>\n",
       "<table border=\"1\" class=\"dataframe\">\n",
       "  <thead>\n",
       "    <tr style=\"text-align: right;\">\n",
       "      <th></th>\n",
       "      <th>Customer Name</th>\n",
       "    </tr>\n",
       "  </thead>\n",
       "  <tbody>\n",
       "    <tr>\n",
       "      <th>0</th>\n",
       "      <td>mohit kumar</td>\n",
       "    </tr>\n",
       "    <tr>\n",
       "      <th>1</th>\n",
       "      <td>Abhijit Chauhan</td>\n",
       "    </tr>\n",
       "    <tr>\n",
       "      <th>2</th>\n",
       "      <td>Akshay Joshi</td>\n",
       "    </tr>\n",
       "    <tr>\n",
       "      <th>3</th>\n",
       "      <td>Amazon Customer</td>\n",
       "    </tr>\n",
       "    <tr>\n",
       "      <th>4</th>\n",
       "      <td>Manish</td>\n",
       "    </tr>\n",
       "  </tbody>\n",
       "</table>\n",
       "</div>"
      ],
      "text/plain": [
       "     Customer Name\n",
       "0      mohit kumar\n",
       "1  Abhijit Chauhan\n",
       "2     Akshay Joshi\n",
       "3  Amazon Customer\n",
       "4           Manish"
      ]
     },
     "execution_count": 54,
     "metadata": {},
     "output_type": "execute_result"
    }
   ],
   "source": [
    "df.head(5)"
   ]
  },
  {
   "cell_type": "code",
   "execution_count": 55,
   "metadata": {},
   "outputs": [],
   "source": [
    "df['Customer Name']=cust_name"
   ]
  },
  {
   "cell_type": "code",
   "execution_count": 56,
   "metadata": {},
   "outputs": [
    {
     "data": {
      "text/html": [
       "<div>\n",
       "<style scoped>\n",
       "    .dataframe tbody tr th:only-of-type {\n",
       "        vertical-align: middle;\n",
       "    }\n",
       "\n",
       "    .dataframe tbody tr th {\n",
       "        vertical-align: top;\n",
       "    }\n",
       "\n",
       "    .dataframe thead th {\n",
       "        text-align: right;\n",
       "    }\n",
       "</style>\n",
       "<table border=\"1\" class=\"dataframe\">\n",
       "  <thead>\n",
       "    <tr style=\"text-align: right;\">\n",
       "      <th></th>\n",
       "      <th>Customer Name</th>\n",
       "    </tr>\n",
       "  </thead>\n",
       "  <tbody>\n",
       "    <tr>\n",
       "      <th>0</th>\n",
       "      <td>mohit kumar</td>\n",
       "    </tr>\n",
       "    <tr>\n",
       "      <th>1</th>\n",
       "      <td>Abhijit Chauhan</td>\n",
       "    </tr>\n",
       "    <tr>\n",
       "      <th>2</th>\n",
       "      <td>Akshay Joshi</td>\n",
       "    </tr>\n",
       "    <tr>\n",
       "      <th>3</th>\n",
       "      <td>Amazon Customer</td>\n",
       "    </tr>\n",
       "    <tr>\n",
       "      <th>4</th>\n",
       "      <td>Manish</td>\n",
       "    </tr>\n",
       "    <tr>\n",
       "      <th>5</th>\n",
       "      <td>prashant p</td>\n",
       "    </tr>\n",
       "    <tr>\n",
       "      <th>6</th>\n",
       "      <td>Manideep</td>\n",
       "    </tr>\n",
       "    <tr>\n",
       "      <th>7</th>\n",
       "      <td>Parth Garg</td>\n",
       "    </tr>\n",
       "    <tr>\n",
       "      <th>8</th>\n",
       "      <td>Sagar</td>\n",
       "    </tr>\n",
       "    <tr>\n",
       "      <th>9</th>\n",
       "      <td>Varun Raj</td>\n",
       "    </tr>\n",
       "  </tbody>\n",
       "</table>\n",
       "</div>"
      ],
      "text/plain": [
       "     Customer Name\n",
       "0      mohit kumar\n",
       "1  Abhijit Chauhan\n",
       "2     Akshay Joshi\n",
       "3  Amazon Customer\n",
       "4           Manish\n",
       "5       prashant p\n",
       "6         Manideep\n",
       "7       Parth Garg\n",
       "8            Sagar\n",
       "9        Varun Raj"
      ]
     },
     "execution_count": 56,
     "metadata": {},
     "output_type": "execute_result"
    }
   ],
   "source": [
    "df"
   ]
  },
  {
   "cell_type": "code",
   "execution_count": 58,
   "metadata": {},
   "outputs": [],
   "source": [
    "df['Review title']=review_title\n",
    "df['Ratings']=rate\n",
    "df['Reviews']=review_content"
   ]
  },
  {
   "cell_type": "code",
   "execution_count": 59,
   "metadata": {},
   "outputs": [
    {
     "data": {
      "text/html": [
       "<div>\n",
       "<style scoped>\n",
       "    .dataframe tbody tr th:only-of-type {\n",
       "        vertical-align: middle;\n",
       "    }\n",
       "\n",
       "    .dataframe tbody tr th {\n",
       "        vertical-align: top;\n",
       "    }\n",
       "\n",
       "    .dataframe thead th {\n",
       "        text-align: right;\n",
       "    }\n",
       "</style>\n",
       "<table border=\"1\" class=\"dataframe\">\n",
       "  <thead>\n",
       "    <tr style=\"text-align: right;\">\n",
       "      <th></th>\n",
       "      <th>Customer Name</th>\n",
       "      <th>Review title</th>\n",
       "      <th>Ratings</th>\n",
       "      <th>Reviews</th>\n",
       "    </tr>\n",
       "  </thead>\n",
       "  <tbody>\n",
       "    <tr>\n",
       "      <th>0</th>\n",
       "      <td>mohit kumar</td>\n",
       "      <td>Worst installation &amp; demo process of 1 +tv</td>\n",
       "      <td>1.0 out of 5 stars</td>\n",
       "      <td>Delivery was fast but installation &amp; demo pa...</td>\n",
       "    </tr>\n",
       "    <tr>\n",
       "      <th>1</th>\n",
       "      <td>Abhijit Chauhan</td>\n",
       "      <td>Dead pixels on the TV</td>\n",
       "      <td>4.0 out of 5 stars</td>\n",
       "      <td>There are dead pixels on a brand new tv. Cal...</td>\n",
       "    </tr>\n",
       "    <tr>\n",
       "      <th>2</th>\n",
       "      <td>Akshay Joshi</td>\n",
       "      <td>A ideal TV  for binge watching millennials</td>\n",
       "      <td>4.0 out of 5 stars</td>\n",
       "      <td>If you have used a One Plus smartphone you'r...</td>\n",
       "    </tr>\n",
       "    <tr>\n",
       "      <th>3</th>\n",
       "      <td>Amazon Customer</td>\n",
       "      <td>The review is more to do with service rather t...</td>\n",
       "      <td>1.0 out of 5 stars</td>\n",
       "      <td>Being a loyal OnePlus customer since OnePlus...</td>\n",
       "    </tr>\n",
       "    <tr>\n",
       "      <th>4</th>\n",
       "      <td>Manish</td>\n",
       "      <td>Impressive</td>\n",
       "      <td>4.0 out of 5 stars</td>\n",
       "      <td>Very impressive picture quality,and very smo...</td>\n",
       "    </tr>\n",
       "    <tr>\n",
       "      <th>5</th>\n",
       "      <td>prashant p</td>\n",
       "      <td>Best quality picture, sound, internet and remote</td>\n",
       "      <td>1.0 out of 5 stars</td>\n",
       "      <td>Any one getting pink screen?TV has major fa...</td>\n",
       "    </tr>\n",
       "    <tr>\n",
       "      <th>6</th>\n",
       "      <td>Manideep</td>\n",
       "      <td>Waiting for Netflix</td>\n",
       "      <td>1.0 out of 5 stars</td>\n",
       "      <td>Day1:This z my first smart tv so unable to c...</td>\n",
       "    </tr>\n",
       "    <tr>\n",
       "      <th>7</th>\n",
       "      <td>Parth Garg</td>\n",
       "      <td>Amazing TV - Poor Amazon Service</td>\n",
       "      <td>5.0 out of 5 stars</td>\n",
       "      <td>5 Star for OnePlus TV as a Product.2 Star fo...</td>\n",
       "    </tr>\n",
       "    <tr>\n",
       "      <th>8</th>\n",
       "      <td>Sagar</td>\n",
       "      <td>Not at all like a OnePlus product, totally dis...</td>\n",
       "      <td>1.0 out of 5 stars</td>\n",
       "      <td>Did not like the TV at all. go for Samsung L...</td>\n",
       "    </tr>\n",
       "    <tr>\n",
       "      <th>9</th>\n",
       "      <td>Varun Raj</td>\n",
       "      <td>Many defects and poor support from customer care</td>\n",
       "      <td>5.0 out of 5 stars</td>\n",
       "      <td>Edit:My concerns are heard!! I got an update...</td>\n",
       "    </tr>\n",
       "  </tbody>\n",
       "</table>\n",
       "</div>"
      ],
      "text/plain": [
       "     Customer Name                                       Review title  \\\n",
       "0      mohit kumar         Worst installation & demo process of 1 +tv   \n",
       "1  Abhijit Chauhan                              Dead pixels on the TV   \n",
       "2     Akshay Joshi         A ideal TV  for binge watching millennials   \n",
       "3  Amazon Customer  The review is more to do with service rather t...   \n",
       "4           Manish                                         Impressive   \n",
       "5       prashant p   Best quality picture, sound, internet and remote   \n",
       "6         Manideep                                Waiting for Netflix   \n",
       "7       Parth Garg                   Amazing TV - Poor Amazon Service   \n",
       "8            Sagar  Not at all like a OnePlus product, totally dis...   \n",
       "9        Varun Raj   Many defects and poor support from customer care   \n",
       "\n",
       "              Ratings                                            Reviews  \n",
       "0  1.0 out of 5 stars    Delivery was fast but installation & demo pa...  \n",
       "1  4.0 out of 5 stars    There are dead pixels on a brand new tv. Cal...  \n",
       "2  4.0 out of 5 stars    If you have used a One Plus smartphone you'r...  \n",
       "3  1.0 out of 5 stars    Being a loyal OnePlus customer since OnePlus...  \n",
       "4  4.0 out of 5 stars    Very impressive picture quality,and very smo...  \n",
       "5  1.0 out of 5 stars     Any one getting pink screen?TV has major fa...  \n",
       "6  1.0 out of 5 stars    Day1:This z my first smart tv so unable to c...  \n",
       "7  5.0 out of 5 stars    5 Star for OnePlus TV as a Product.2 Star fo...  \n",
       "8  1.0 out of 5 stars    Did not like the TV at all. go for Samsung L...  \n",
       "9  5.0 out of 5 stars    Edit:My concerns are heard!! I got an update...  "
      ]
     },
     "execution_count": 59,
     "metadata": {},
     "output_type": "execute_result"
    }
   ],
   "source": [
    "df"
   ]
  },
  {
   "cell_type": "code",
   "execution_count": 62,
   "metadata": {},
   "outputs": [],
   "source": [
    "df.to_csv(r'D:\\ASHOK\\SEM-7\\NLP\\Assignments\\AmazonReviews.csv',index=True)"
   ]
  },
  {
   "cell_type": "code",
   "execution_count": null,
   "metadata": {},
   "outputs": [],
   "source": []
  }
 ],
 "metadata": {
  "kernelspec": {
   "display_name": "Python 3",
   "language": "python",
   "name": "python3"
  },
  "language_info": {
   "codemirror_mode": {
    "name": "ipython",
    "version": 3
   },
   "file_extension": ".py",
   "mimetype": "text/x-python",
   "name": "python",
   "nbconvert_exporter": "python",
   "pygments_lexer": "ipython3",
   "version": "3.8.1"
  }
 },
 "nbformat": 4,
 "nbformat_minor": 2
}
